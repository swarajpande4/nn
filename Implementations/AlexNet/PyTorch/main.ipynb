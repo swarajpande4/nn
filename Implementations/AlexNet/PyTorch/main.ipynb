{
  "cells": [
    {
      "cell_type": "code",
      "source": [
        "import torch\n",
        "import torchvision\n",
        "import numpy as np\n",
        "import matplotlib.pyplot as plt\n",
        "import torch.nn as nn\n",
        "import torch.nn.functional as F \n",
        "import torch.optim as optim\n",
        "from torchvision.datasets import CIFAR10\n",
        "from torchvision.transforms import ToTensor\n",
        "from torchvision.utils import make_grid \n",
        "from torch.utils.data.dataloader import DataLoader\n",
        "from torch.utils.data import random_split \n",
        "from torchvision import transforms \n",
        "from torchvision.utils import save_image \n",
        "from datetime import datetime\n",
        "%matplotlib inline "
      ],
      "metadata": {
        "id": "j0RZcvQ9egl3"
      },
      "execution_count": 1,
      "outputs": []
    },
    {
      "cell_type": "code",
      "source": [
        "transform_train = transforms.Compose([\n",
        "    transforms.Resize((227, 227)),\n",
        "    transforms.RandomHorizontalFlip(p=0.7),\n",
        "    transforms.ToTensor(),\n",
        "    transforms.Normalize(mean=[0.485, 0.456, 0.406], std=[0.229, 0.224, 0.225])\n",
        "])\n",
        "\n",
        "transform_test = transforms.Compose([\n",
        "    transforms.Resize((227, 227)),\n",
        "    transforms.ToTensor(),\n",
        "    transforms.Normalize(mean=[0.485, 0.456, 0.406], std=[0.229, 0.224, 0.225])\n",
        "])"
      ],
      "metadata": {
        "id": "-mqNjw2LfIZw"
      },
      "execution_count": 2,
      "outputs": []
    },
    {
      "cell_type": "code",
      "source": [
        "torch.manual_seed(43)\n",
        "\n",
        "train_ds = CIFAR10(\"data/\", train=True, download=True, transform=transform_train)\n",
        "val_size = 10000 \n",
        "train_size = len(train_ds) - val_size \n",
        "train_ds, val_ds = random_split(train_ds, [train_size, val_size]) \n",
        "\n",
        "test_ds = CIFAR10(\"data/\", train=False, download=True, transform=transform_test)"
      ],
      "metadata": {
        "colab": {
          "base_uri": "https://localhost:8080/",
          "height": 101,
          "referenced_widgets": [
            "f56ca95b4f3f40bf8796cfafd0b4897a",
            "8b45f0e278924eb4bab77d2acbf2765a",
            "6229991897f64fb39166a2285d84d820",
            "97cd8afa18714ce5b1ad4067018a064c",
            "0c72d782545f4284bf944491894fe512",
            "3185848aa7db44fe9800c317ee368b84",
            "b7e14623f7a240fca42f45f724323a96",
            "e67b55d428074369b0a68eb417362be5",
            "4b76c46324704633add6d1f3e73a8147",
            "0e8039811dc94c3c9d97b8f50a12d987",
            "fcc64bf74b9c4de1bf62459c0e3b4a5f"
          ]
        },
        "id": "yevv4VbQf1uE",
        "outputId": "e09cf109-c034-43e2-9318-9ac8f92d10aa"
      },
      "execution_count": 3,
      "outputs": [
        {
          "output_type": "stream",
          "name": "stdout",
          "text": [
            "Downloading https://www.cs.toronto.edu/~kriz/cifar-10-python.tar.gz to data/cifar-10-python.tar.gz\n"
          ]
        },
        {
          "output_type": "display_data",
          "data": {
            "text/plain": [
              "  0%|          | 0/170498071 [00:00<?, ?it/s]"
            ],
            "application/vnd.jupyter.widget-view+json": {
              "version_major": 2,
              "version_minor": 0,
              "model_id": "f56ca95b4f3f40bf8796cfafd0b4897a"
            }
          },
          "metadata": {}
        },
        {
          "output_type": "stream",
          "name": "stdout",
          "text": [
            "Extracting data/cifar-10-python.tar.gz to data/\n",
            "Files already downloaded and verified\n"
          ]
        }
      ]
    },
    {
      "cell_type": "code",
      "source": [
        "train_dl = DataLoader(train_ds, batch_size=64, shuffle=True) \n",
        "val_dl = DataLoader(val_ds, batch_size=64, shuffle=False) \n",
        "test_dl = DataLoader(test_ds, batch_size=64, shuffle=False) \n"
      ],
      "metadata": {
        "id": "i4fst2w4gftu"
      },
      "execution_count": 4,
      "outputs": []
    },
    {
      "cell_type": "code",
      "source": [
        "class AlexNet(nn.Module):\n",
        "    def __init__(self):\n",
        "        super(AlexNet, self).__init__()\n",
        "        self.conv1 = nn.Conv2d(in_channels=3, out_channels= 96, kernel_size= 11, stride=4, padding=0 )\n",
        "        self.maxpool = nn.MaxPool2d(kernel_size=3, stride=2)\n",
        "        self.conv2 = nn.Conv2d(in_channels=96, out_channels=256, kernel_size=5, stride= 1, padding= 2)\n",
        "        self.conv3 = nn.Conv2d(in_channels=256, out_channels=384, kernel_size=3, stride= 1, padding= 1)\n",
        "        self.conv4 = nn.Conv2d(in_channels=384, out_channels=384, kernel_size=3, stride=1, padding=1)\n",
        "        self.conv5 = nn.Conv2d(in_channels=384, out_channels=256, kernel_size=3, stride=1, padding=1)\n",
        "        self.fc1  = nn.Linear(in_features= 9216, out_features= 4096)\n",
        "        self.fc2  = nn.Linear(in_features= 4096, out_features= 4096)\n",
        "        self.fc3 = nn.Linear(in_features=4096 , out_features=10)\n",
        "\n",
        "\n",
        "    def forward(self,x):\n",
        "        x = F.relu(self.conv1(x))\n",
        "        x = self.maxpool(x)\n",
        "        x = F.relu(self.conv2(x))\n",
        "        x = self.maxpool(x)\n",
        "        x = F.relu(self.conv3(x))\n",
        "        x = F.relu(self.conv4(x))\n",
        "        x = F.relu(self.conv5(x))\n",
        "        x = self.maxpool(x)\n",
        "        x = x.reshape(x.shape[0], -1)\n",
        "        x = F.relu(self.fc1(x))\n",
        "        x = F.relu(self.fc2(x))\n",
        "        x = self.fc3(x)\n",
        "        return x"
      ],
      "metadata": {
        "id": "chysjeSngx1p"
      },
      "execution_count": 5,
      "outputs": []
    },
    {
      "cell_type": "code",
      "source": [
        "device = torch.device('cuda' if torch.cuda.is_available() else 'cpu')\n",
        "\n",
        "model = AlexNet().to(device) \n",
        "\n",
        "learning_rate = 1e-4 \n",
        "load_model = True \n",
        "criterion = nn.CrossEntropyLoss() \n",
        "optimizer = optim.Adam(model.parameters(), lr=learning_rate) \n",
        "\n",
        "N_EPOCHS = 50 "
      ],
      "metadata": {
        "id": "OZmDJDVxg1a5"
      },
      "execution_count": 6,
      "outputs": []
    },
    {
      "cell_type": "code",
      "source": [
        "train_loss = [] \n",
        "val_accuracy = []\n",
        "\n",
        "for epoch in range(50):\n",
        "    loss_ep = 0 \n",
        "\n",
        "    for batch_idx, (data, targets) in enumerate(train_dl):\n",
        "        data = data.to(device=device) \n",
        "        targets = targets.to(device=device)\n",
        "\n",
        "        # Forward Pass \n",
        "        optimizer.zero_grad()\n",
        "        scores = model(data)\n",
        "        loss = criterion(scores,targets)\n",
        "        loss.backward()\n",
        "        optimizer.step()\n",
        "        loss_ep += loss.item()\n",
        "    \n",
        "    print(f\"Loss in epoch {epoch} :::: {loss_ep/len(train_dl)}\")\n",
        "    train_loss.append(loss_ep / len(train_dl)) \n",
        "    \n",
        "    with torch.no_grad(): \n",
        "        num_correct = 0\n",
        "        num_samples = 0\n",
        "        for batch_idx, (data,targets) in enumerate(val_dl):\n",
        "            data = data.to(device=device)\n",
        "            targets = targets.to(device=device)\n",
        "            \n",
        "            # Forward Pass\n",
        "            scores = model(data)\n",
        "            _, predictions = scores.max(1)\n",
        "            num_correct += (predictions == targets).sum()\n",
        "            num_samples += predictions.size(0)\n",
        "            val_accuracy.append(num_correct / num_samples)\n",
        "        \n",
        "        print(\n",
        "            f\"Got {num_correct} / {num_samples} with accuracy {float(num_correct) / float(num_samples) * 100:.2f}\"\n",
        "        )"
      ],
      "metadata": {
        "colab": {
          "base_uri": "https://localhost:8080/"
        },
        "id": "GSHnfQrTnajM",
        "outputId": "36a396ab-d633-4955-9729-72b8c6413c0e"
      },
      "execution_count": 7,
      "outputs": [
        {
          "output_type": "stream",
          "name": "stdout",
          "text": [
            "Loss in epoch 0 :::: 1.507936727142334\n",
            "Got 5793 / 10000 with accuracy 57.93\n",
            "Loss in epoch 1 :::: 0.9972855783462524\n",
            "Got 6732 / 10000 with accuracy 67.32\n",
            "Loss in epoch 2 :::: 0.7642265497684478\n",
            "Got 7401 / 10000 with accuracy 74.01\n",
            "Loss in epoch 3 :::: 0.6158788241863251\n",
            "Got 7542 / 10000 with accuracy 75.42\n",
            "Loss in epoch 4 :::: 0.5135951350212097\n",
            "Got 7881 / 10000 with accuracy 78.81\n",
            "Loss in epoch 5 :::: 0.417810942530632\n",
            "Got 8018 / 10000 with accuracy 80.18\n",
            "Loss in epoch 6 :::: 0.33497451033592224\n",
            "Got 8064 / 10000 with accuracy 80.64\n",
            "Loss in epoch 7 :::: 0.26818108838796617\n",
            "Got 8042 / 10000 with accuracy 80.42\n",
            "Loss in epoch 8 :::: 0.21283530923128127\n",
            "Got 8145 / 10000 with accuracy 81.45\n",
            "Loss in epoch 9 :::: 0.17060982523560525\n",
            "Got 8209 / 10000 with accuracy 82.09\n",
            "Loss in epoch 10 :::: 0.13830615979433059\n",
            "Got 8246 / 10000 with accuracy 82.46\n",
            "Loss in epoch 11 :::: 0.12187085514813661\n",
            "Got 8015 / 10000 with accuracy 80.15\n",
            "Loss in epoch 12 :::: 0.10582849079295993\n",
            "Got 8231 / 10000 with accuracy 82.31\n",
            "Loss in epoch 13 :::: 0.08500276096761226\n",
            "Got 8173 / 10000 with accuracy 81.73\n",
            "Loss in epoch 14 :::: 0.08203503601774573\n",
            "Got 8240 / 10000 with accuracy 82.40\n",
            "Loss in epoch 15 :::: 0.07375477663651109\n",
            "Got 8224 / 10000 with accuracy 82.24\n",
            "Loss in epoch 16 :::: 0.06941533934604377\n",
            "Got 8184 / 10000 with accuracy 81.84\n",
            "Loss in epoch 17 :::: 0.05786975514888763\n",
            "Got 8233 / 10000 with accuracy 82.33\n",
            "Loss in epoch 18 :::: 0.056566582939680664\n",
            "Got 8172 / 10000 with accuracy 81.72\n",
            "Loss in epoch 19 :::: 0.0529355257069692\n",
            "Got 8163 / 10000 with accuracy 81.63\n",
            "Loss in epoch 20 :::: 0.05118364874366671\n",
            "Got 8247 / 10000 with accuracy 82.47\n",
            "Loss in epoch 21 :::: 0.04811800499772653\n",
            "Got 8202 / 10000 with accuracy 82.02\n",
            "Loss in epoch 22 :::: 0.042065334812225776\n",
            "Got 8235 / 10000 with accuracy 82.35\n",
            "Loss in epoch 23 :::: 0.04425902518806979\n",
            "Got 8236 / 10000 with accuracy 82.36\n",
            "Loss in epoch 24 :::: 0.03822495873272419\n",
            "Got 8229 / 10000 with accuracy 82.29\n",
            "Loss in epoch 25 :::: 0.03966647295854055\n",
            "Got 8181 / 10000 with accuracy 81.81\n",
            "Loss in epoch 26 :::: 0.03830962819606066\n",
            "Got 8204 / 10000 with accuracy 82.04\n",
            "Loss in epoch 27 :::: 0.03252164236949757\n",
            "Got 8154 / 10000 with accuracy 81.54\n",
            "Loss in epoch 28 :::: 0.03910391501726117\n",
            "Got 8142 / 10000 with accuracy 81.42\n",
            "Loss in epoch 29 :::: 0.03531467049843632\n",
            "Got 8230 / 10000 with accuracy 82.30\n",
            "Loss in epoch 30 :::: 0.029351616402412763\n",
            "Got 8115 / 10000 with accuracy 81.15\n",
            "Loss in epoch 31 :::: 0.03255831655170768\n",
            "Got 8184 / 10000 with accuracy 81.84\n",
            "Loss in epoch 32 :::: 0.028533895182958804\n",
            "Got 8259 / 10000 with accuracy 82.59\n",
            "Loss in epoch 33 :::: 0.029972594293300063\n",
            "Got 8126 / 10000 with accuracy 81.26\n",
            "Loss in epoch 34 :::: 0.03314521510769846\n",
            "Got 8221 / 10000 with accuracy 82.21\n",
            "Loss in epoch 35 :::: 0.0290708408678649\n",
            "Got 8159 / 10000 with accuracy 81.59\n",
            "Loss in epoch 36 :::: 0.0291391388008371\n",
            "Got 8179 / 10000 with accuracy 81.79\n",
            "Loss in epoch 37 :::: 0.023972556247678585\n",
            "Got 8204 / 10000 with accuracy 82.04\n",
            "Loss in epoch 38 :::: 0.02810458482853137\n",
            "Got 8262 / 10000 with accuracy 82.62\n",
            "Loss in epoch 39 :::: 0.028272757931426168\n",
            "Got 8144 / 10000 with accuracy 81.44\n",
            "Loss in epoch 40 :::: 0.02286857137051411\n",
            "Got 8292 / 10000 with accuracy 82.92\n",
            "Loss in epoch 41 :::: 0.027431211446155793\n",
            "Got 8277 / 10000 with accuracy 82.77\n",
            "Loss in epoch 42 :::: 0.0234608238452347\n",
            "Got 8259 / 10000 with accuracy 82.59\n",
            "Loss in epoch 43 :::: 0.021044614810246276\n",
            "Got 8228 / 10000 with accuracy 82.28\n",
            "Loss in epoch 44 :::: 0.025304025603597985\n",
            "Got 8184 / 10000 with accuracy 81.84\n",
            "Loss in epoch 45 :::: 0.02359505443883827\n",
            "Got 8234 / 10000 with accuracy 82.34\n",
            "Loss in epoch 46 :::: 0.02332859094611049\n",
            "Got 8279 / 10000 with accuracy 82.79\n",
            "Loss in epoch 47 :::: 0.02120571427734685\n",
            "Got 8227 / 10000 with accuracy 82.27\n",
            "Loss in epoch 48 :::: 0.022168415297049795\n",
            "Got 8304 / 10000 with accuracy 83.04\n",
            "Loss in epoch 49 :::: 0.016965909629728413\n",
            "Got 8309 / 10000 with accuracy 83.09\n"
          ]
        }
      ]
    },
    {
      "cell_type": "code",
      "source": [
        "plt.title(\"Train Loss\")\n",
        "plt.xlabel(\"Loss\")\n",
        "plt.ylabel(\"Epoch\")\n",
        "plt.plot(train_loss)\n",
        "plt.show()"
      ],
      "metadata": {
        "id": "m5oDgRSqiYXK",
        "colab": {
          "base_uri": "https://localhost:8080/",
          "height": 295
        },
        "outputId": "3a234d2a-1b8a-40e2-ea3b-165bbf99a3ea"
      },
      "execution_count": 10,
      "outputs": [
        {
          "output_type": "display_data",
          "data": {
            "text/plain": [
              "<Figure size 432x288 with 1 Axes>"
            ],
            "image/png": "[encoded data removed]"
          },
          "metadata": {
            "needs_background": "light"
          }
        }
      ]
    },
    {
      "cell_type": "code",
      "source": [
        "plt.title(\"Validation Accuracy\")\n",
        "plt.xlabel(\"Accuracy\")\n",
        "plt.ylabel(\"Epoch\")\n",
        "plt.plot([t.cpu().data.numpy() for t in val_accuracy])\n",
        "plt.show()"
      ],
      "metadata": {
        "colab": {
          "base_uri": "https://localhost:8080/",
          "height": 295
        },
        "id": "YUEDFupm1Pg-",
        "outputId": "20f537cf-1b22-4c42-e853-0267fe636975"
      },
      "execution_count": 17,
      "outputs": [
        {
          "output_type": "display_data",
          "data": {
            "text/plain": [
              "<Figure size 432x288 with 1 Axes>"
            ],
            "image/png": "[encoded data removed]"
          },
          "metadata": {
            "needs_background": "light"
          }
        }
      ]
    },
    {
      "cell_type": "code",
      "source": [
        "num_correct = 0\n",
        "num_samples = 0\n",
        "for batch_idx, (data,targets) in enumerate(test_dl):\n",
        "    data = data.to(device=\"cpu\")\n",
        "    targets = targets.to(device=\"cpu\")\n",
        "    # Forward Pass\n",
        "    scores = model(data.to(device=\"cuda\")).to(device=\"cpu\")\n",
        "    _, predictions = scores.max(1)\n",
        "    num_correct += (predictions == targets).sum()\n",
        "    num_samples += predictions.size(0)\n",
        "\n",
        "print(f\"Accuracy {float(num_correct) / float(num_samples) * 100:.2f}\")"
      ],
      "metadata": {
        "colab": {
          "base_uri": "https://localhost:8080/"
        },
        "id": "dHVHd8H-1p_-",
        "outputId": "4794d75f-df3a-42cc-d487-19613661b566"
      },
      "execution_count": 23,
      "outputs": [
        {
          "output_type": "stream",
          "name": "stdout",
          "text": [
            "Accuracy 83.01\n"
          ]
        }
      ]
    },
    {
      "cell_type": "code",
      "source": [
        ""
      ],
      "metadata": {
        "id": "r8PUiueh8dsp"
      },
      "execution_count": null,
      "outputs": []
    }
  ],
  "metadata": {
    "kernelspec": {
      "display_name": "Python 3",
      "language": "python",
      "name": "python3"
    },
    "language_info": {
      "codemirror_mode": {
        "name": "ipython",
        "version": 3
      },
      "file_extension": ".py",
      "mimetype": "text/x-python",
      "name": "python",
      "nbconvert_exporter": "python",
      "pygments_lexer": "ipython3",
      "version": "3.7.7"
    },
    "colab": {
      "name": "main.ipynb",
      "provenance": []
    },
    "accelerator": "GPU",
    "gpuClass": "standard",
    "widgets": {
      "application/vnd.jupyter.widget-state+json": {
        "f56ca95b4f3f40bf8796cfafd0b4897a": {
          "model_module": "@jupyter-widgets/controls",
          "model_name": "HBoxModel",
          "model_module_version": "1.5.0",
          "state": {
            "_dom_classes": [],
            "_model_module": "@jupyter-widgets/controls",
            "_model_module_version": "1.5.0",
            "_model_name": "HBoxModel",
            "_view_count": null,
            "_view_module": "@jupyter-widgets/controls",
            "_view_module_version": "1.5.0",
            "_view_name": "HBoxView",
            "box_style": "",
            "children": [
              "IPY_MODEL_8b45f0e278924eb4bab77d2acbf2765a",
              "IPY_MODEL_6229991897f64fb39166a2285d84d820",
              "IPY_MODEL_97cd8afa18714ce5b1ad4067018a064c"
            ],
            "layout": "IPY_MODEL_0c72d782545f4284bf944491894fe512"
          }
        },
        "8b45f0e278924eb4bab77d2acbf2765a": {
          "model_module": "@jupyter-widgets/controls",
          "model_name": "HTMLModel",
          "model_module_version": "1.5.0",
          "state": {
            "_dom_classes": [],
            "_model_module": "@jupyter-widgets/controls",
            "_model_module_version": "1.5.0",
            "_model_name": "HTMLModel",
            "_view_count": null,
            "_view_module": "@jupyter-widgets/controls",
            "_view_module_version": "1.5.0",
            "_view_name": "HTMLView",
            "description": "",
            "description_tooltip": null,
            "layout": "IPY_MODEL_3185848aa7db44fe9800c317ee368b84",
            "placeholder": "​",
            "style": "IPY_MODEL_b7e14623f7a240fca42f45f724323a96",
            "value": ""
          }
        },
        "6229991897f64fb39166a2285d84d820": {
          "model_module": "@jupyter-widgets/controls",
          "model_name": "FloatProgressModel",
          "model_module_version": "1.5.0",
          "state": {
            "_dom_classes": [],
            "_model_module": "@jupyter-widgets/controls",
            "_model_module_version": "1.5.0",
            "_model_name": "FloatProgressModel",
            "_view_count": null,
            "_view_module": "@jupyter-widgets/controls",
            "_view_module_version": "1.5.0",
            "_view_name": "ProgressView",
            "bar_style": "success",
            "description": "",
            "description_tooltip": null,
            "layout": "IPY_MODEL_e67b55d428074369b0a68eb417362be5",
            "max": 170498071,
            "min": 0,
            "orientation": "horizontal",
            "style": "IPY_MODEL_4b76c46324704633add6d1f3e73a8147",
            "value": 170498071
          }
        },
        "97cd8afa18714ce5b1ad4067018a064c": {
          "model_module": "@jupyter-widgets/controls",
          "model_name": "HTMLModel",
          "model_module_version": "1.5.0",
          "state": {
            "_dom_classes": [],
            "_model_module": "@jupyter-widgets/controls",
            "_model_module_version": "1.5.0",
            "_model_name": "HTMLModel",
            "_view_count": null,
            "_view_module": "@jupyter-widgets/controls",
            "_view_module_version": "1.5.0",
            "_view_name": "HTMLView",
            "description": "",
            "description_tooltip": null,
            "layout": "IPY_MODEL_0e8039811dc94c3c9d97b8f50a12d987",
            "placeholder": "​",
            "style": "IPY_MODEL_fcc64bf74b9c4de1bf62459c0e3b4a5f",
            "value": " 170499072/? [00:13&lt;00:00, 16191268.28it/s]"
          }
        },
        "0c72d782545f4284bf944491894fe512": {
          "model_module": "@jupyter-widgets/base",
          "model_name": "LayoutModel",
          "model_module_version": "1.2.0",
          "state": {
            "_model_module": "@jupyter-widgets/base",
            "_model_module_version": "1.2.0",
            "_model_name": "LayoutModel",
            "_view_count": null,
            "_view_module": "@jupyter-widgets/base",
            "_view_module_version": "1.2.0",
            "_view_name": "LayoutView",
            "align_content": null,
            "align_items": null,
            "align_self": null,
            "border": null,
            "bottom": null,
            "display": null,
            "flex": null,
            "flex_flow": null,
            "grid_area": null,
            "grid_auto_columns": null,
            "grid_auto_flow": null,
            "grid_auto_rows": null,
            "grid_column": null,
            "grid_gap": null,
            "grid_row": null,
            "grid_template_areas": null,
            "grid_template_columns": null,
            "grid_template_rows": null,
            "height": null,
            "justify_content": null,
            "justify_items": null,
            "left": null,
            "margin": null,
            "max_height": null,
            "max_width": null,
            "min_height": null,
            "min_width": null,
            "object_fit": null,
            "object_position": null,
            "order": null,
            "overflow": null,
            "overflow_x": null,
            "overflow_y": null,
            "padding": null,
            "right": null,
            "top": null,
            "visibility": null,
            "width": null
          }
        },
        "3185848aa7db44fe9800c317ee368b84": {
          "model_module": "@jupyter-widgets/base",
          "model_name": "LayoutModel",
          "model_module_version": "1.2.0",
          "state": {
            "_model_module": "@jupyter-widgets/base",
            "_model_module_version": "1.2.0",
            "_model_name": "LayoutModel",
            "_view_count": null,
            "_view_module": "@jupyter-widgets/base",
            "_view_module_version": "1.2.0",
            "_view_name": "LayoutView",
            "align_content": null,
            "align_items": null,
            "align_self": null,
            "border": null,
            "bottom": null,
            "display": null,
            "flex": null,
            "flex_flow": null,
            "grid_area": null,
            "grid_auto_columns": null,
            "grid_auto_flow": null,
            "grid_auto_rows": null,
            "grid_column": null,
            "grid_gap": null,
            "grid_row": null,
            "grid_template_areas": null,
            "grid_template_columns": null,
            "grid_template_rows": null,
            "height": null,
            "justify_content": null,
            "justify_items": null,
            "left": null,
            "margin": null,
            "max_height": null,
            "max_width": null,
            "min_height": null,
            "min_width": null,
            "object_fit": null,
            "object_position": null,
            "order": null,
            "overflow": null,
            "overflow_x": null,
            "overflow_y": null,
            "padding": null,
            "right": null,
            "top": null,
            "visibility": null,
            "width": null
          }
        },
        "b7e14623f7a240fca42f45f724323a96": {
          "model_module": "@jupyter-widgets/controls",
          "model_name": "DescriptionStyleModel",
          "model_module_version": "1.5.0",
          "state": {
            "_model_module": "@jupyter-widgets/controls",
            "_model_module_version": "1.5.0",
            "_model_name": "DescriptionStyleModel",
            "_view_count": null,
            "_view_module": "@jupyter-widgets/base",
            "_view_module_version": "1.2.0",
            "_view_name": "StyleView",
            "description_width": ""
          }
        },
        "e67b55d428074369b0a68eb417362be5": {
          "model_module": "@jupyter-widgets/base",
          "model_name": "LayoutModel",
          "model_module_version": "1.2.0",
          "state": {
            "_model_module": "@jupyter-widgets/base",
            "_model_module_version": "1.2.0",
            "_model_name": "LayoutModel",
            "_view_count": null,
            "_view_module": "@jupyter-widgets/base",
            "_view_module_version": "1.2.0",
            "_view_name": "LayoutView",
            "align_content": null,
            "align_items": null,
            "align_self": null,
            "border": null,
            "bottom": null,
            "display": null,
            "flex": null,
            "flex_flow": null,
            "grid_area": null,
            "grid_auto_columns": null,
            "grid_auto_flow": null,
            "grid_auto_rows": null,
            "grid_column": null,
            "grid_gap": null,
            "grid_row": null,
            "grid_template_areas": null,
            "grid_template_columns": null,
            "grid_template_rows": null,
            "height": null,
            "justify_content": null,
            "justify_items": null,
            "left": null,
            "margin": null,
            "max_height": null,
            "max_width": null,
            "min_height": null,
            "min_width": null,
            "object_fit": null,
            "object_position": null,
            "order": null,
            "overflow": null,
            "overflow_x": null,
            "overflow_y": null,
            "padding": null,
            "right": null,
            "top": null,
            "visibility": null,
            "width": null
          }
        },
        "4b76c46324704633add6d1f3e73a8147": {
          "model_module": "@jupyter-widgets/controls",
          "model_name": "ProgressStyleModel",
          "model_module_version": "1.5.0",
          "state": {
            "_model_module": "@jupyter-widgets/controls",
            "_model_module_version": "1.5.0",
            "_model_name": "ProgressStyleModel",
            "_view_count": null,
            "_view_module": "@jupyter-widgets/base",
            "_view_module_version": "1.2.0",
            "_view_name": "StyleView",
            "bar_color": null,
            "description_width": ""
          }
        },
        "0e8039811dc94c3c9d97b8f50a12d987": {
          "model_module": "@jupyter-widgets/base",
          "model_name": "LayoutModel",
          "model_module_version": "1.2.0",
          "state": {
            "_model_module": "@jupyter-widgets/base",
            "_model_module_version": "1.2.0",
            "_model_name": "LayoutModel",
            "_view_count": null,
            "_view_module": "@jupyter-widgets/base",
            "_view_module_version": "1.2.0",
            "_view_name": "LayoutView",
            "align_content": null,
            "align_items": null,
            "align_self": null,
            "border": null,
            "bottom": null,
            "display": null,
            "flex": null,
            "flex_flow": null,
            "grid_area": null,
            "grid_auto_columns": null,
            "grid_auto_flow": null,
            "grid_auto_rows": null,
            "grid_column": null,
            "grid_gap": null,
            "grid_row": null,
            "grid_template_areas": null,
            "grid_template_columns": null,
            "grid_template_rows": null,
            "height": null,
            "justify_content": null,
            "justify_items": null,
            "left": null,
            "margin": null,
            "max_height": null,
            "max_width": null,
            "min_height": null,
            "min_width": null,
            "object_fit": null,
            "object_position": null,
            "order": null,
            "overflow": null,
            "overflow_x": null,
            "overflow_y": null,
            "padding": null,
            "right": null,
            "top": null,
            "visibility": null,
            "width": null
          }
        },
        "fcc64bf74b9c4de1bf62459c0e3b4a5f": {
          "model_module": "@jupyter-widgets/controls",
          "model_name": "DescriptionStyleModel",
          "model_module_version": "1.5.0",
          "state": {
            "_model_module": "@jupyter-widgets/controls",
            "_model_module_version": "1.5.0",
            "_model_name": "DescriptionStyleModel",
            "_view_count": null,
            "_view_module": "@jupyter-widgets/base",
            "_view_module_version": "1.2.0",
            "_view_name": "StyleView",
            "description_width": ""
          }
        }
      }
    }
  },
  "nbformat": 4,
  "nbformat_minor": 0
}