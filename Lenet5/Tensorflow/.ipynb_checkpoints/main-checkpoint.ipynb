{
 "cells": [
  {
   "cell_type": "code",
   "execution_count": 1,
   "id": "187fbb86-a390-4ff4-9abf-36f0b984561c",
   "metadata": {
    "execution": {
     "iopub.execute_input": "2022-01-15T07:11:21.572775Z",
     "iopub.status.busy": "2022-01-15T07:11:21.571352Z",
     "iopub.status.idle": "2022-01-15T07:11:23.665802Z",
     "shell.execute_reply": "2022-01-15T07:11:23.665182Z",
     "shell.execute_reply.started": "2022-01-15T07:11:21.572411Z"
    },
    "tags": []
   },
   "outputs": [],
   "source": [
    "import tensorflow as tf\n",
    "import matplotlib.pyplot as plt\n",
    "from tensorflow.keras import datasets, layers, models, losses"
   ]
  },
  {
   "cell_type": "code",
   "execution_count": 2,
   "id": "6eacb6dc-4342-4a60-ab9a-7df1b67b26e3",
   "metadata": {
    "execution": {
     "iopub.execute_input": "2022-01-15T07:11:25.100667Z",
     "iopub.status.busy": "2022-01-15T07:11:25.099567Z",
     "iopub.status.idle": "2022-01-15T07:11:25.433829Z",
     "shell.execute_reply": "2022-01-15T07:11:25.433314Z",
     "shell.execute_reply.started": "2022-01-15T07:11:25.100541Z"
    },
    "tags": []
   },
   "outputs": [],
   "source": [
    "(X_train, y_train), (X_test, y_test) = tf.keras.datasets.mnist.load_data()"
   ]
  },
  {
   "cell_type": "code",
   "execution_count": 3,
   "id": "6e62905b-2886-4de5-91d1-61a8b1492f94",
   "metadata": {
    "execution": {
     "iopub.execute_input": "2022-01-15T07:11:26.038343Z",
     "iopub.status.busy": "2022-01-15T07:11:26.037992Z",
     "iopub.status.idle": "2022-01-15T07:11:26.051061Z",
     "shell.execute_reply": "2022-01-15T07:11:26.049975Z",
     "shell.execute_reply.started": "2022-01-15T07:11:26.038299Z"
    },
    "tags": []
   },
   "outputs": [
    {
     "data": {
      "text/plain": [
       "(60000, 28, 28)"
      ]
     },
     "execution_count": 3,
     "metadata": {},
     "output_type": "execute_result"
    }
   ],
   "source": [
    "X_train.shape"
   ]
  },
  {
   "cell_type": "markdown",
   "id": "6cf1894a-70ea-4a7d-b462-10fab0046b9d",
   "metadata": {},
   "source": [
    "<br>\n",
    "The Lenet-5 model originally receives 32x32 images. Hence, we pad the 28x28 MNIST images with zeros. <br>\n",
    "Also the images are scaled between 0 and 1."
   ]
  },
  {
   "cell_type": "code",
   "execution_count": 4,
   "id": "07e22104-f7f2-4e08-bc99-0a4eebc953ff",
   "metadata": {
    "execution": {
     "iopub.execute_input": "2022-01-15T07:11:27.399275Z",
     "iopub.status.busy": "2022-01-15T07:11:27.398013Z",
     "iopub.status.idle": "2022-01-15T07:11:28.096487Z",
     "shell.execute_reply": "2022-01-15T07:11:28.095952Z",
     "shell.execute_reply.started": "2022-01-15T07:11:27.399125Z"
    },
    "tags": []
   },
   "outputs": [
    {
     "data": {
      "text/plain": [
       "TensorShape([60000, 32, 32])"
      ]
     },
     "execution_count": 4,
     "metadata": {},
     "output_type": "execute_result"
    }
   ],
   "source": [
    "X_train = tf.pad(X_train, [[0, 0], [2, 2], [2, 2]]) / 255\n",
    "X_test = tf.pad(X_test, [[0, 0], [2, 2], [2, 2]]) / 255\n",
    "X_train.shape"
   ]
  },
  {
   "cell_type": "markdown",
   "id": "88c57cce-aa09-4b71-894e-0207e51a4acf",
   "metadata": {},
   "source": [
    "<br>\n",
    "Most CNN's accept 4-dimensional tensors as inputs, having dimensions of batch size, height, width, and channel. Hence we add a dummy dimension here."
   ]
  },
  {
   "cell_type": "code",
   "execution_count": 5,
   "id": "80e29b9d-3a07-42d7-b261-3292ee269e53",
   "metadata": {
    "execution": {
     "iopub.execute_input": "2022-01-15T07:11:29.096483Z",
     "iopub.status.busy": "2022-01-15T07:11:29.095409Z",
     "iopub.status.idle": "2022-01-15T07:11:29.120267Z",
     "shell.execute_reply": "2022-01-15T07:11:29.116506Z",
     "shell.execute_reply.started": "2022-01-15T07:11:29.096349Z"
    },
    "tags": []
   },
   "outputs": [
    {
     "data": {
      "text/plain": [
       "TensorShape([60000, 32, 32, 1])"
      ]
     },
     "execution_count": 5,
     "metadata": {},
     "output_type": "execute_result"
    }
   ],
   "source": [
    "X_train = tf.expand_dims(X_train, axis=3)\n",
    "X_test = tf.expand_dims(X_test, axis=3)\n",
    "X_train.shape"
   ]
  },
  {
   "cell_type": "markdown",
   "id": "437bc934-2b35-421c-9d63-d95bf85c53e1",
   "metadata": {},
   "source": [
    "<br>\n",
    "The last 2000 samples of training set are reserverd for validation set. <br>\n",
    "The validation set is used for tuning the hyperparameters of the model."
   ]
  },
  {
   "cell_type": "code",
   "execution_count": 6,
   "id": "0a01420d-d313-44c6-ae85-a417c235be94",
   "metadata": {
    "execution": {
     "iopub.execute_input": "2022-01-15T07:11:30.265103Z",
     "iopub.status.busy": "2022-01-15T07:11:30.263989Z",
     "iopub.status.idle": "2022-01-15T07:11:30.294697Z",
     "shell.execute_reply": "2022-01-15T07:11:30.291888Z",
     "shell.execute_reply.started": "2022-01-15T07:11:30.264961Z"
    },
    "tags": []
   },
   "outputs": [
    {
     "data": {
      "text/plain": [
       "TensorShape([58000, 32, 32, 1])"
      ]
     },
     "execution_count": 6,
     "metadata": {},
     "output_type": "execute_result"
    }
   ],
   "source": [
    "X_val = X_train[-2000:, :, :, :]\n",
    "y_val = y_train[-2000:]\n",
    "X_train = X_train[:-2000, :, :, :]\n",
    "y_train = y_train[:-2000]\n",
    "\n",
    "X_train.shape"
   ]
  },
  {
   "cell_type": "markdown",
   "id": "4aecc93b-9092-49bb-b439-7b903d23ba2d",
   "metadata": {},
   "source": [
    "#### Model"
   ]
  },
  {
   "cell_type": "code",
   "execution_count": 7,
   "id": "fa1dd0e8-2c31-46e1-9403-de0c544dc323",
   "metadata": {
    "execution": {
     "iopub.execute_input": "2022-01-15T07:15:58.754728Z",
     "iopub.status.busy": "2022-01-15T07:15:58.754402Z",
     "iopub.status.idle": "2022-01-15T07:15:59.268868Z",
     "shell.execute_reply": "2022-01-15T07:15:59.268011Z",
     "shell.execute_reply.started": "2022-01-15T07:15:58.754692Z"
    }
   },
   "outputs": [
    {
     "name": "stdout",
     "output_type": "stream",
     "text": [
      "Model: \"sequential\"\n",
      "_________________________________________________________________\n",
      "Layer (type)                 Output Shape              Param #   \n",
      "=================================================================\n",
      "conv2d (Conv2D)              (None, 28, 28, 6)         156       \n",
      "_________________________________________________________________\n",
      "average_pooling2d (AveragePo (None, 14, 14, 6)         0         \n",
      "_________________________________________________________________\n",
      "activation (Activation)      (None, 14, 14, 6)         0         \n",
      "_________________________________________________________________\n",
      "conv2d_1 (Conv2D)            (None, 10, 10, 16)        2416      \n",
      "_________________________________________________________________\n",
      "average_pooling2d_1 (Average (None, 5, 5, 16)          0         \n",
      "_________________________________________________________________\n",
      "activation_1 (Activation)    (None, 5, 5, 16)          0         \n",
      "_________________________________________________________________\n",
      "conv2d_2 (Conv2D)            (None, 1, 1, 120)         48120     \n",
      "_________________________________________________________________\n",
      "flatten (Flatten)            (None, 120)               0         \n",
      "_________________________________________________________________\n",
      "dense (Dense)                (None, 84)                10164     \n",
      "_________________________________________________________________\n",
      "dense_1 (Dense)              (None, 10)                850       \n",
      "=================================================================\n",
      "Total params: 61,706\n",
      "Trainable params: 61,706\n",
      "Non-trainable params: 0\n",
      "_________________________________________________________________\n"
     ]
    }
   ],
   "source": [
    "model = models.Sequential()\n",
    "model.add(layers.Conv2D(6, 5, activation='tanh', input_shape=X_train.shape[1:]))\n",
    "model.add(layers.AveragePooling2D(2))\n",
    "model.add(layers.Activation('sigmoid'))\n",
    "model.add(layers.Conv2D(16, 5, activation='tanh'))\n",
    "model.add(layers.AveragePooling2D(2))\n",
    "model.add(layers.Activation('sigmoid'))\n",
    "model.add(layers.Conv2D(120, 5, activation='tanh'))\n",
    "model.add(layers.Flatten())\n",
    "model.add(layers.Dense(84, activation='tanh'))\n",
    "model.add(layers.Dense(10, activation='softmax'))\n",
    "model.summary()"
   ]
  },
  {
   "cell_type": "markdown",
   "id": "d536a75b-cd71-4be0-bd2e-b66ca5909ab3",
   "metadata": {},
   "source": [
    "#### Compilation"
   ]
  },
  {
   "cell_type": "code",
   "execution_count": 8,
   "id": "c98633b5-53aa-47aa-9655-a3960d3ebd21",
   "metadata": {
    "execution": {
     "iopub.execute_input": "2022-01-15T07:16:50.035174Z",
     "iopub.status.busy": "2022-01-15T07:16:50.034363Z",
     "iopub.status.idle": "2022-01-15T07:16:50.062178Z",
     "shell.execute_reply": "2022-01-15T07:16:50.060729Z",
     "shell.execute_reply.started": "2022-01-15T07:16:50.035082Z"
    }
   },
   "outputs": [],
   "source": [
    "model.compile(optimizer='adam', loss=losses.sparse_categorical_crossentropy, metrics=['accuracy'])"
   ]
  },
  {
   "cell_type": "markdown",
   "id": "eb4c6ce5-5f2d-4ec5-ad69-f190c3e5cd15",
   "metadata": {},
   "source": [
    "#### Fitting"
   ]
  },
  {
   "cell_type": "code",
   "execution_count": 9,
   "id": "7a918444-01b9-4010-9835-cbc9d35a7384",
   "metadata": {
    "execution": {
     "iopub.execute_input": "2022-01-15T07:17:34.423078Z",
     "iopub.status.busy": "2022-01-15T07:17:34.419021Z",
     "iopub.status.idle": "2022-01-15T07:31:59.607123Z",
     "shell.execute_reply": "2022-01-15T07:31:59.601793Z",
     "shell.execute_reply.started": "2022-01-15T07:17:34.422956Z"
    }
   },
   "outputs": [
    {
     "name": "stdout",
     "output_type": "stream",
     "text": [
      "Epoch 1/40\n",
      "907/907 [==============================] - 21s 22ms/step - loss: 1.6906 - accuracy: 0.3736 - val_loss: 0.3634 - val_accuracy: 0.8960\n",
      "Epoch 2/40\n",
      "907/907 [==============================] - 18s 20ms/step - loss: 0.3645 - accuracy: 0.8846 - val_loss: 0.1930 - val_accuracy: 0.9530\n",
      "Epoch 3/40\n",
      "907/907 [==============================] - 24s 27ms/step - loss: 0.2671 - accuracy: 0.9148 - val_loss: 0.1890 - val_accuracy: 0.9485\n",
      "Epoch 4/40\n",
      "907/907 [==============================] - 22s 25ms/step - loss: 0.2206 - accuracy: 0.9314 - val_loss: 0.1642 - val_accuracy: 0.9540\n",
      "Epoch 5/40\n",
      "907/907 [==============================] - 22s 25ms/step - loss: 0.1961 - accuracy: 0.9380 - val_loss: 0.1488 - val_accuracy: 0.9575\n",
      "Epoch 6/40\n",
      "907/907 [==============================] - 23s 25ms/step - loss: 0.1761 - accuracy: 0.9447 - val_loss: 0.1196 - val_accuracy: 0.9675\n",
      "Epoch 7/40\n",
      "907/907 [==============================] - 26s 29ms/step - loss: 0.1616 - accuracy: 0.9489 - val_loss: 0.0842 - val_accuracy: 0.9780\n",
      "Epoch 8/40\n",
      "907/907 [==============================] - 32s 36ms/step - loss: 0.1457 - accuracy: 0.9537 - val_loss: 0.0980 - val_accuracy: 0.9750\n",
      "Epoch 9/40\n",
      "907/907 [==============================] - 25s 28ms/step - loss: 0.1351 - accuracy: 0.9575 - val_loss: 0.0867 - val_accuracy: 0.9795\n",
      "Epoch 10/40\n",
      "907/907 [==============================] - 21s 24ms/step - loss: 0.1235 - accuracy: 0.9616 - val_loss: 0.1128 - val_accuracy: 0.9655\n",
      "Epoch 11/40\n",
      "907/907 [==============================] - 20s 22ms/step - loss: 0.1190 - accuracy: 0.9620 - val_loss: 0.0754 - val_accuracy: 0.9780\n",
      "Epoch 12/40\n",
      "907/907 [==============================] - 18s 20ms/step - loss: 0.1092 - accuracy: 0.9653 - val_loss: 0.0814 - val_accuracy: 0.9775\n",
      "Epoch 13/40\n",
      "907/907 [==============================] - 18s 20ms/step - loss: 0.1067 - accuracy: 0.9654 - val_loss: 0.0861 - val_accuracy: 0.9745\n",
      "Epoch 14/40\n",
      "907/907 [==============================] - 19s 20ms/step - loss: 0.1013 - accuracy: 0.9683 - val_loss: 0.0654 - val_accuracy: 0.9805\n",
      "Epoch 15/40\n",
      "907/907 [==============================] - 19s 21ms/step - loss: 0.0969 - accuracy: 0.9690 - val_loss: 0.0662 - val_accuracy: 0.9805\n",
      "Epoch 16/40\n",
      "907/907 [==============================] - 19s 21ms/step - loss: 0.0910 - accuracy: 0.9711 - val_loss: 0.0758 - val_accuracy: 0.9795\n",
      "Epoch 17/40\n",
      "907/907 [==============================] - 19s 21ms/step - loss: 0.0897 - accuracy: 0.9704 - val_loss: 0.0730 - val_accuracy: 0.9815\n",
      "Epoch 18/40\n",
      "907/907 [==============================] - 19s 21ms/step - loss: 0.0839 - accuracy: 0.9733 - val_loss: 0.0535 - val_accuracy: 0.9885\n",
      "Epoch 19/40\n",
      "907/907 [==============================] - 19s 21ms/step - loss: 0.0825 - accuracy: 0.9734 - val_loss: 0.0559 - val_accuracy: 0.9850\n",
      "Epoch 20/40\n",
      "907/907 [==============================] - 19s 21ms/step - loss: 0.0778 - accuracy: 0.9753 - val_loss: 0.0577 - val_accuracy: 0.9885\n",
      "Epoch 21/40\n",
      "907/907 [==============================] - 20s 22ms/step - loss: 0.0778 - accuracy: 0.9753 - val_loss: 0.0672 - val_accuracy: 0.9845\n",
      "Epoch 22/40\n",
      "907/907 [==============================] - 19s 21ms/step - loss: 0.0736 - accuracy: 0.9764 - val_loss: 0.1252 - val_accuracy: 0.9665\n",
      "Epoch 23/40\n",
      "907/907 [==============================] - 19s 21ms/step - loss: 0.0755 - accuracy: 0.9751 - val_loss: 0.0804 - val_accuracy: 0.9770\n",
      "Epoch 24/40\n",
      "907/907 [==============================] - 19s 21ms/step - loss: 0.0724 - accuracy: 0.9770 - val_loss: 0.0593 - val_accuracy: 0.9870\n",
      "Epoch 25/40\n",
      "907/907 [==============================] - 19s 21ms/step - loss: 0.0667 - accuracy: 0.9788 - val_loss: 0.0638 - val_accuracy: 0.9840\n",
      "Epoch 26/40\n",
      "907/907 [==============================] - 19s 21ms/step - loss: 0.0701 - accuracy: 0.9776 - val_loss: 0.0551 - val_accuracy: 0.9875\n",
      "Epoch 27/40\n",
      "907/907 [==============================] - 19s 21ms/step - loss: 0.0663 - accuracy: 0.9784 - val_loss: 0.0574 - val_accuracy: 0.9855\n",
      "Epoch 28/40\n",
      "907/907 [==============================] - 37s 41ms/step - loss: 0.0629 - accuracy: 0.9802 - val_loss: 0.0556 - val_accuracy: 0.9855\n",
      "Epoch 29/40\n",
      "907/907 [==============================] - 20s 22ms/step - loss: 0.0635 - accuracy: 0.9794 - val_loss: 0.0633 - val_accuracy: 0.9825\n",
      "Epoch 30/40\n",
      "907/907 [==============================] - 29s 32ms/step - loss: 0.0629 - accuracy: 0.9799 - val_loss: 0.0569 - val_accuracy: 0.9860\n",
      "Epoch 31/40\n",
      "907/907 [==============================] - 24s 27ms/step - loss: 0.0618 - accuracy: 0.9802 - val_loss: 0.0612 - val_accuracy: 0.9830\n",
      "Epoch 32/40\n",
      "907/907 [==============================] - 20s 22ms/step - loss: 0.0615 - accuracy: 0.9801 - val_loss: 0.0580 - val_accuracy: 0.9835\n",
      "Epoch 33/40\n",
      "907/907 [==============================] - 19s 21ms/step - loss: 0.0606 - accuracy: 0.9804 - val_loss: 0.0517 - val_accuracy: 0.9870\n",
      "Epoch 34/40\n",
      "907/907 [==============================] - 20s 22ms/step - loss: 0.0570 - accuracy: 0.9816 - val_loss: 0.0516 - val_accuracy: 0.9895\n",
      "Epoch 35/40\n",
      "907/907 [==============================] - 20s 22ms/step - loss: 0.0554 - accuracy: 0.9818 - val_loss: 0.0615 - val_accuracy: 0.9850\n",
      "Epoch 36/40\n",
      "907/907 [==============================] - 23s 26ms/step - loss: 0.0582 - accuracy: 0.9805 - val_loss: 0.0458 - val_accuracy: 0.9890\n",
      "Epoch 37/40\n",
      "907/907 [==============================] - 24s 26ms/step - loss: 0.0539 - accuracy: 0.9819 - val_loss: 0.0634 - val_accuracy: 0.9835\n",
      "Epoch 38/40\n",
      "907/907 [==============================] - 20s 22ms/step - loss: 0.0550 - accuracy: 0.9823 - val_loss: 0.0623 - val_accuracy: 0.9870\n",
      "Epoch 39/40\n",
      "907/907 [==============================] - 20s 22ms/step - loss: 0.0529 - accuracy: 0.9829 - val_loss: 0.0414 - val_accuracy: 0.9910\n",
      "Epoch 40/40\n",
      "907/907 [==============================] - 26s 29ms/step - loss: 0.0531 - accuracy: 0.9825 - val_loss: 0.0478 - val_accuracy: 0.9895\n"
     ]
    }
   ],
   "source": [
    "hist = model.fit(X_train, y_train, batch_size=64, epochs=40, validation_data=(X_val, y_val))"
   ]
  },
  {
   "cell_type": "code",
   "execution_count": 12,
   "id": "4728dc68-9e91-422f-a7a4-88b1b7f3a37d",
   "metadata": {
    "execution": {
     "iopub.execute_input": "2022-01-15T07:33:44.732191Z",
     "iopub.status.busy": "2022-01-15T07:33:44.731620Z",
     "iopub.status.idle": "2022-01-15T07:33:45.113952Z",
     "shell.execute_reply": "2022-01-15T07:33:45.113226Z",
     "shell.execute_reply.started": "2022-01-15T07:33:44.732122Z"
    },
    "tags": []
   },
   "outputs": [
    {
     "data": {
      "image/png": "[encoded data removed]",
      "text/plain": [
       "<Figure size 1080x1080 with 2 Axes>"
      ]
     },
     "metadata": {
      "needs_background": "light"
     },
     "output_type": "display_data"
    }
   ],
   "source": [
    "fig, axs = plt.subplots(2, 1, figsize=(15,15))\n",
    "\n",
    "axs[0].plot(hist.history['loss'])\n",
    "axs[0].plot(hist.history['val_loss'])\n",
    "axs[0].title.set_text('Training Loss vs Validation Loss')\n",
    "axs[0].legend(['Train', 'Val'])\n",
    "\n",
    "axs[1].plot(hist.history['accuracy'])\n",
    "axs[1].plot(hist.history['val_accuracy'])\n",
    "axs[1].title.set_text('Training Accuracy vs Validation Accuracy')\n",
    "axs[1].legend(['Train', 'Val'])\n",
    "\n",
    "plt.show()"
   ]
  },
  {
   "cell_type": "code",
   "execution_count": 14,
   "id": "d9fc2b24-bda2-42de-9982-0ce381171c20",
   "metadata": {
    "execution": {
     "iopub.execute_input": "2022-01-15T07:34:25.952174Z",
     "iopub.status.busy": "2022-01-15T07:34:25.950361Z",
     "iopub.status.idle": "2022-01-15T07:34:27.455048Z",
     "shell.execute_reply": "2022-01-15T07:34:27.454542Z",
     "shell.execute_reply.started": "2022-01-15T07:34:25.952012Z"
    },
    "tags": []
   },
   "outputs": [
    {
     "name": "stdout",
     "output_type": "stream",
     "text": [
      "313/313 [==============================] - 1s 5ms/step - loss: 0.0520 - accuracy: 0.9836\n"
     ]
    },
    {
     "data": {
      "text/plain": [
       "[0.052000392228364944, 0.9836000204086304]"
      ]
     },
     "execution_count": 14,
     "metadata": {},
     "output_type": "execute_result"
    }
   ],
   "source": [
    "model.evaluate(X_test, y_test)"
   ]
  }
 ],
 "metadata": {
  "kernelspec": {
   "display_name": "Python 3",
   "language": "python",
   "name": "python3"
  },
  "language_info": {
   "codemirror_mode": {
    "name": "ipython",
    "version": 3
   },
   "file_extension": ".py",
   "mimetype": "text/x-python",
   "name": "python",
   "nbconvert_exporter": "python",
   "pygments_lexer": "ipython3",
   "version": "3.8.8"
  }
 },
 "nbformat": 4,
 "nbformat_minor": 5
}
